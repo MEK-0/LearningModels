{
  "nbformat": 4,
  "nbformat_minor": 0,
  "metadata": {
    "colab": {
      "provenance": []
    },
    "kernelspec": {
      "name": "python3",
      "display_name": "Python 3"
    },
    "language_info": {
      "name": "python"
    }
  },
  "cells": [
    {
      "cell_type": "markdown",
      "source": [
        "##Numpy (ndarray) oluşturma"
      ],
      "metadata": {
        "id": "a9lUbubw95EZ"
      }
    },
    {
      "cell_type": "code",
      "execution_count": 1,
      "metadata": {
        "id": "SSUYYxGh9rbU"
      },
      "outputs": [],
      "source": [
        "import numpy as np\n",
        "#ilk olarak burada numpy lib kurma işlemi"
      ]
    },
    {
      "cell_type": "code",
      "source": [
        "a = np.array([1,2,3]) #1D array\n",
        "b = np.array([[1,2],[3,4]]) #2D array"
      ],
      "metadata": {
        "id": "s8RaRsQS-YZE"
      },
      "execution_count": 3,
      "outputs": []
    },
    {
      "cell_type": "code",
      "source": [
        "print(a)\n",
        "print(b)\n",
        "print(type(a))\n",
        "print(a.shape)\n",
        "print(b.ndim)"
      ],
      "metadata": {
        "colab": {
          "base_uri": "https://localhost:8080/"
        },
        "id": "7e8TpSRB-sVe",
        "outputId": "4950c188-2844-451b-af79-0f8809a0f92f"
      },
      "execution_count": 5,
      "outputs": [
        {
          "output_type": "stream",
          "name": "stdout",
          "text": [
            "[1 2 3]\n",
            "[[1 2]\n",
            " [3 4]]\n",
            "<class 'numpy.ndarray'>\n",
            "(3,)\n",
            "2\n"
          ]
        }
      ]
    },
    {
      "cell_type": "markdown",
      "source": [
        "##Numpy ile dizi oluşturma fonksiyonları"
      ],
      "metadata": {
        "id": "DfYQEd56_Do0"
      }
    },
    {
      "cell_type": "code",
      "source": [
        "np.zeros((2,3))\n",
        "np.ones((3,2))\n",
        "np.eye(3)\n",
        "np.arange(0,10,2)\n",
        "np.linspace(0,1,5)"
      ],
      "metadata": {
        "colab": {
          "base_uri": "https://localhost:8080/"
        },
        "id": "F6lkDv1Y-uHf",
        "outputId": "98901d29-1f49-423c-fb85-95f74b3113eb"
      },
      "execution_count": 7,
      "outputs": [
        {
          "output_type": "execute_result",
          "data": {
            "text/plain": [
              "array([0.  , 0.25, 0.5 , 0.75, 1.  ])"
            ]
          },
          "metadata": {},
          "execution_count": 7
        }
      ]
    },
    {
      "cell_type": "code",
      "source": [
        "dizi = np.zeros((3,3))\n",
        "\n",
        "for i in range(3):\n",
        "  for j in range(3):\n",
        "    dizi[i,j]=5\n",
        "\n",
        "print(dizi)"
      ],
      "metadata": {
        "colab": {
          "base_uri": "https://localhost:8080/"
        },
        "id": "729izy9W_dct",
        "outputId": "42c34cd8-725c-4b9a-c198-d95406d6e88b"
      },
      "execution_count": 9,
      "outputs": [
        {
          "output_type": "stream",
          "name": "stdout",
          "text": [
            "[[5. 5. 5.]\n",
            " [5. 5. 5.]\n",
            " [5. 5. 5.]]\n"
          ]
        }
      ]
    },
    {
      "cell_type": "markdown",
      "source": [
        "##Temel Dizi İşlemleri\n"
      ],
      "metadata": {
        "id": "dHwy37wc_5At"
      }
    },
    {
      "cell_type": "code",
      "source": [
        "print(a)\n",
        "np.mean(a) #ortalama\n",
        "np.std(a) #Standart sapma\n",
        "np.max(a) #maksimum değer\n",
        "np.min(a) #Minimum değer\n",
        "np.sum(a) #Toplam"
      ],
      "metadata": {
        "colab": {
          "base_uri": "https://localhost:8080/"
        },
        "id": "XPKScHE5_8Jv",
        "outputId": "02352704-1cc4-498c-fc77-520e2d28c237"
      },
      "execution_count": 10,
      "outputs": [
        {
          "output_type": "stream",
          "name": "stdout",
          "text": [
            "[1 2 3]\n"
          ]
        },
        {
          "output_type": "execute_result",
          "data": {
            "text/plain": [
              "np.int64(6)"
            ]
          },
          "metadata": {},
          "execution_count": 10
        }
      ]
    },
    {
      "cell_type": "markdown",
      "source": [
        "##Slicing\n"
      ],
      "metadata": {
        "id": "q0Iu259zAg6N"
      }
    },
    {
      "cell_type": "code",
      "source": [
        "a = np.array([10,20,30,40,50])\n",
        "\n",
        "print(a[0])\n",
        "print(a[1:4])\n",
        "print(a[::2]) # ikili atlayarak\n"
      ],
      "metadata": {
        "colab": {
          "base_uri": "https://localhost:8080/"
        },
        "id": "q1-Pu8WLAjy0",
        "outputId": "08c46fb7-8f23-4a73-c7d4-c4c5134d35a4"
      },
      "execution_count": 11,
      "outputs": [
        {
          "output_type": "stream",
          "name": "stdout",
          "text": [
            "10\n",
            "[20 30 40]\n",
            "[10 30 50]\n"
          ]
        }
      ]
    },
    {
      "cell_type": "code",
      "source": [
        "b = np.array([[1,2,3],[4,5,6]])\n",
        "\n",
        "print(b[0,1])\n",
        "print(b[:,1])\n",
        "print(b[1,:])"
      ],
      "metadata": {
        "colab": {
          "base_uri": "https://localhost:8080/"
        },
        "id": "KJV8m9wjA8A6",
        "outputId": "f6db0213-9031-4506-c113-d391cf74847d"
      },
      "execution_count": 14,
      "outputs": [
        {
          "output_type": "stream",
          "name": "stdout",
          "text": [
            "2\n",
            "[2 5]\n",
            "[4 5 6]\n"
          ]
        }
      ]
    },
    {
      "cell_type": "markdown",
      "source": [
        "##Mantıksal Filtreleme (Boolean Indexing)"
      ],
      "metadata": {
        "id": "kZoOm_eYBg5H"
      }
    },
    {
      "cell_type": "code",
      "source": [
        "a = np.array([5,10,15,20,25])\n",
        "\n",
        "mask = a >10 ##[FALSE,FALSE,TRUE,TRUE,TRUE]\n",
        "filtered = a[mask] #[15,20,25]\n",
        "\n",
        "a[a<15]=0 #[0,10,15,0,0]"
      ],
      "metadata": {
        "id": "I_qjpSs8BBT_"
      },
      "execution_count": 16,
      "outputs": []
    },
    {
      "cell_type": "markdown",
      "source": [
        "##Boyut Değiştirme"
      ],
      "metadata": {
        "id": "41cy_FFKCRE-"
      }
    },
    {
      "cell_type": "code",
      "source": [
        "a = np.array([[1,2,3],[4,5,6]])\n",
        "\n",
        "print(a.shape)\n",
        "print(a.reshape(3,2))\n",
        "print(a.reshape(-1,1)) #Otomatik Boyutlandırma: Her satıra 1 eleman\n",
        "\n",
        "print(a.ravel())  #tek boyutlu vektör (Görünüm kopya değil)\n",
        "print(a.flatten()) #tek boyutlu vektör (Kopya)"
      ],
      "metadata": {
        "colab": {
          "base_uri": "https://localhost:8080/"
        },
        "id": "l8E5Pv8cBrT3",
        "outputId": "425da037-8f20-4a92-83af-b18218e56064"
      },
      "execution_count": 17,
      "outputs": [
        {
          "output_type": "stream",
          "name": "stdout",
          "text": [
            "(2, 3)\n",
            "[[1 2]\n",
            " [3 4]\n",
            " [5 6]]\n",
            "[[1]\n",
            " [2]\n",
            " [3]\n",
            " [4]\n",
            " [5]\n",
            " [6]]\n",
            "[1 2 3 4 5 6]\n",
            "[1 2 3 4 5 6]\n"
          ]
        }
      ]
    },
    {
      "cell_type": "code",
      "source": [
        "a = np.arange(1,13)\n",
        "\n",
        "print(a.reshape(3,4)) #3x4 formatı\n",
        "print(a.reshape(4,3)) #4x3 formatı\n",
        "print(a.reshape(1,a.size)) # tek boyutlu hale getirme\n",
        "print(a.reshape(a.size,1)) # her satır bir eleman olacak şekilde"
      ],
      "metadata": {
        "colab": {
          "base_uri": "https://localhost:8080/"
        },
        "id": "SgSCDHskC9T7",
        "outputId": "f42a2c2f-feb6-4173-cdbb-a6171d271148"
      },
      "execution_count": 24,
      "outputs": [
        {
          "output_type": "stream",
          "name": "stdout",
          "text": [
            "[[ 1  2  3  4]\n",
            " [ 5  6  7  8]\n",
            " [ 9 10 11 12]]\n",
            "[[ 1  2  3]\n",
            " [ 4  5  6]\n",
            " [ 7  8  9]\n",
            " [10 11 12]]\n",
            "[[ 1  2  3  4  5  6  7  8  9 10 11 12]]\n",
            "[[ 1]\n",
            " [ 2]\n",
            " [ 3]\n",
            " [ 4]\n",
            " [ 5]\n",
            " [ 6]\n",
            " [ 7]\n",
            " [ 8]\n",
            " [ 9]\n",
            " [10]\n",
            " [11]\n",
            " [12]]\n"
          ]
        }
      ]
    },
    {
      "cell_type": "markdown",
      "source": [
        "## Matris İşlemleri"
      ],
      "metadata": {
        "id": "d0O_H1jWD7h_"
      }
    },
    {
      "cell_type": "code",
      "source": [
        "A = np.array([[1,2],[3,4]])\n",
        "B = np.array([[5,6],[7,8]])\n",
        "\n",
        "print(np.dot(A,B)) # Matris Çarpımı\n",
        "print(A @ B)  #Bu da matris çarpımının en kısa hali\n",
        "\n",
        "print(A.T) # A nın transpozu\n",
        "\n",
        "detA = np.linalg.det(A) #Determinat\n",
        "print(detA)\n",
        "\n",
        "tersA = np.linalg.inv(A) # Tersini alma\n",
        "print(tersA)"
      ],
      "metadata": {
        "colab": {
          "base_uri": "https://localhost:8080/"
        },
        "id": "2gdtP0kZD943",
        "outputId": "977cd4b0-6c74-4e59-cf44-0ee8a14c7273"
      },
      "execution_count": 28,
      "outputs": [
        {
          "output_type": "stream",
          "name": "stdout",
          "text": [
            "[[19 22]\n",
            " [43 50]]\n",
            "[[19 22]\n",
            " [43 50]]\n",
            "[[1 3]\n",
            " [2 4]]\n",
            "-2.0000000000000004\n",
            "[[-2.   1. ]\n",
            " [ 1.5 -0.5]]\n"
          ]
        }
      ]
    },
    {
      "cell_type": "markdown",
      "source": [],
      "metadata": {
        "id": "1ox3OGpAFGos"
      }
    },
    {
      "cell_type": "markdown",
      "source": [
        "## Rastgele sayılar ve İstatiksel İşlemler"
      ],
      "metadata": {
        "id": "AWUrgVC2FGp7"
      }
    },
    {
      "cell_type": "code",
      "source": [
        "np.random.seed(42)              # Aynı rastgeleliği sağlamak için\n",
        "np.random.randint(0, 10, 5)     # 0-10 arası 5 tamsayı\n",
        "np.random.rand(3)               # 0-1 arası 3 sayı\n",
        "np.random.randn(3, 3)           # Ortalama 0, std 1 olan 3x3 sayı\n"
      ],
      "metadata": {
        "colab": {
          "base_uri": "https://localhost:8080/"
        },
        "id": "9pseF0djEf-f",
        "outputId": "b37639cc-902f-4ac8-d167-b5f550b68499"
      },
      "execution_count": 29,
      "outputs": [
        {
          "output_type": "execute_result",
          "data": {
            "text/plain": [
              "array([[-0.88523035, -0.41218848, -0.4826188 ],\n",
              "       [ 0.16416482,  0.23309524,  0.11799461],\n",
              "       [ 1.46237812,  1.53871497, -2.43910582]])"
            ]
          },
          "metadata": {},
          "execution_count": 29
        }
      ]
    },
    {
      "cell_type": "markdown",
      "source": [],
      "metadata": {
        "id": "Xg0a2905FRBq"
      }
    },
    {
      "cell_type": "markdown",
      "source": [
        "İstatiksel işlemler"
      ],
      "metadata": {
        "id": "TjOMIRIOFRCz"
      }
    },
    {
      "cell_type": "code",
      "source": [
        "a = np.random.randint(1, 100, 10)\n",
        "\n",
        "np.mean(a)       # Ortalama\n",
        "np.median(a)     # Medyan\n",
        "np.std(a)        # Standart sapma\n",
        "np.var(a)        # Varyans\n",
        "np.max(a)        # Maksimum\n",
        "np.min(a)        # Minimum\n",
        "np.sort(a)       # Sıralama\n"
      ],
      "metadata": {
        "colab": {
          "base_uri": "https://localhost:8080/"
        },
        "id": "LG8OdyoOFTOH",
        "outputId": "86e64891-794a-4601-9705-4b084e26cb17"
      },
      "execution_count": 30,
      "outputs": [
        {
          "output_type": "execute_result",
          "data": {
            "text/plain": [
              "array([15, 47, 51, 55, 60, 62, 62, 62, 80, 92])"
            ]
          },
          "metadata": {},
          "execution_count": 30
        }
      ]
    }
  ]
}