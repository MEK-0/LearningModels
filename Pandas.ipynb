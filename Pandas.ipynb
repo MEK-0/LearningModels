{
  "nbformat": 4,
  "nbformat_minor": 0,
  "metadata": {
    "colab": {
      "provenance": [],
      "mount_file_id": "12f0MYuAhTU2uxScOt8hVRmlFebatwhHI",
      "authorship_tag": "ABX9TyN5bMv9TJyZwpDy/n07JyqN",
      "include_colab_link": true
    },
    "kernelspec": {
      "name": "python3",
      "display_name": "Python 3"
    },
    "language_info": {
      "name": "python"
    }
  },
  "cells": [
    {
      "cell_type": "markdown",
      "metadata": {
        "id": "view-in-github",
        "colab_type": "text"
      },
      "source": [
        "<a href=\"https://colab.research.google.com/github/MEK-0/Python_lib/blob/main/Pandas.ipynb\" target=\"_parent\"><img src=\"https://colab.research.google.com/assets/colab-badge.svg\" alt=\"Open In Colab\"/></a>"
      ]
    },
    {
      "cell_type": "markdown",
      "source": [
        "# Pandas Kütüphanesine Giriş\n",
        "\n",
        "## 1. Pandas’a Giriş\n",
        "- Pandas Nedir?\n",
        "- Pandas Kurulumu ve Kullanımı\n",
        "\n",
        "## 2. Seriler (Series)\n",
        "- Seriye Giriş\n",
        "- Seriye Veri Ekleme ve Çıkarma\n",
        "- Serinin Özellikleri\n",
        "- Pandas Serisi ile Temel İşlemler\n",
        "\n",
        "## 3. DataFrame (Veri Çerçevesi)\n",
        "- Veri Çerçevesine Giriş\n",
        "- DataFrame Oluşturma\n",
        "- DataFrame Özellikleri: `.shape`, `.info()`, `.head()`, `.tail()`\n",
        "- Satır ve Sütun Ekleme/Çıkarma\n",
        "- Veri Çerçevesi ile Temel İşlemler\n",
        "\n",
        "## 4. Veri Temizleme ve Manipülasyonu\n",
        "- Eksik Verilerle Çalışma\n",
        "- Veri Tipi Dönüşümü\n",
        "- Yinelenen Verilerin Kaldırılması\n",
        "- Verileri Güncelleme\n",
        "- Veri Çerçevesi ile Koşullu Atama\n",
        "\n",
        "## 5. Veri İndeksleme ve Seçme\n",
        "- Satır ve Sütun Seçimi\n",
        "- `set_index()` ve `reset_index()`\n",
        "- İleri Düzey İndeksleme\n",
        "\n",
        "## 6. Birleştirme, Gruplama ve Pivot\n",
        "- Verileri Birleştirme: `merge()`, `concat()`, `join()`\n",
        "- Gruplama ve Toplama: `.groupby()`\n",
        "- Pivot Tablo Oluşturma: `.pivot()`, `.pivot_table()`\n",
        "\n",
        "## 7. Veri Dönüşümü ve Uygulamalar\n",
        "- Veriyi Yeniden Şekillendirme: `.melt()`, `.pivot()`\n",
        "- Fonksiyon Uygulama: `.apply()`, `.map()`, `.applymap()`\n",
        "- Veri Sıralama: `.sort_values()`, `.sort_index()`\n",
        "\n",
        "## 8. Zaman Serileri ve Tarih Verileri\n",
        "- Tarih/Saat Verisi ile Çalışma\n",
        "- `pd.to_datetime()` ile Tarih Formatına Dönüştürme\n",
        "- Zaman Serisi Oluşturma\n",
        "- Zaman Aralıkları ve Sıklıklar: `resample()`, `rolling()`\n",
        "\n",
        "## 9. Veri Görselleştirme\n",
        "- Pandas ile Temel Görselleştirme: `.plot()`\n",
        "- Matplotlib ile Pandas Verisi Görselleştirme\n",
        "\n",
        "## 10. Veri İhracatı ve İçe Aktarımı\n",
        "- CSV, Excel, SQL, JSON Gibi Formatlara Veri Kaydetme ve Okuma\n",
        "- `read_csv()`, `to_csv()`, `read_excel()`, `to_excel()`\n"
      ],
      "metadata": {
        "id": "KmNu7fFTH07V"
      }
    },
    {
      "cell_type": "code",
      "source": [
        "import pandas as pd"
      ],
      "metadata": {
        "id": "EGr9gZ7mZz6y"
      },
      "execution_count": 2,
      "outputs": []
    },
    {
      "cell_type": "markdown",
      "source": [],
      "metadata": {
        "id": "ExmnvoqUHqGM"
      }
    },
    {
      "cell_type": "markdown",
      "source": [
        "##Seriler (series)\n",
        "\n",
        "Pandas'taki Series, bir boyutlu (tek boyutlu) etiketlenmiş dizilerdir. Series, Python’daki listelere benzer, ancak her eleman için etiketler (index) sağlar. Bu sayede veriler daha anlamlı hale gelir ve index kullanarak verilere kolayca erişilebilir.\n",
        "\n",
        "Seriye Giriş\n",
        "\n",
        "Series, tek bir veri tipini tutan bir dizidir, fakat her bir elemanın yanında bir etiket (index) bulunur. Bu index, veriye erişmek için kullanılır.\n",
        "\n",
        "Series Özellikleri:\n",
        "\n",
        "Tek boyutlu (1D) veri yapısıdır.\n",
        "İndeksleme (indexing) ile veri seçimi yapılabilir.\n",
        "NumPy dizileri ile uyumludur, yani NumPy fonksiyonları ile birlikte kullanılabilir.\n",
        "Series Oluşturma\n",
        "\n",
        "Series oluşturmak oldukça basittir. Bunun için bir liste (veya NumPy dizisi) kullanabiliriz.\n"
      ],
      "metadata": {
        "id": "u7a2qEwCZ87x"
      }
    },
    {
      "cell_type": "code",
      "source": [
        "#Liste kullanarak series oluşturma\n",
        "\n",
        "data = [10,20,30,40,50]\n",
        "\n",
        "s = pd.Series(data)\n",
        "\n",
        "print(s)"
      ],
      "metadata": {
        "colab": {
          "base_uri": "https://localhost:8080/"
        },
        "id": "mVlZgaxSaD2k",
        "outputId": "73e87f78-b6bd-4437-f63d-900736ec9a45"
      },
      "execution_count": 3,
      "outputs": [
        {
          "output_type": "stream",
          "name": "stdout",
          "text": [
            "0    10\n",
            "1    20\n",
            "2    30\n",
            "3    40\n",
            "4    50\n",
            "dtype: int64\n"
          ]
        }
      ]
    },
    {
      "cell_type": "markdown",
      "source": [
        "##Özel İndeks ile Series Oluşturma\n",
        "\n",
        "Series oluştururken, verilerle birlikte özel bir index de verebiliriz. Bu, verilerle daha anlamlı etiketle"
      ],
      "metadata": {
        "id": "yGUSnGU9amNS"
      }
    },
    {
      "cell_type": "code",
      "source": [
        "data = [10,20,30,40,50]\n",
        "\n",
        "index_labels = ['a','b','c','d','e']\n",
        "\n",
        "s = pd.Series(data,index=index_labels)\n",
        "\n",
        "print(s)"
      ],
      "metadata": {
        "colab": {
          "base_uri": "https://localhost:8080/"
        },
        "id": "DjsgYFzGaoL9",
        "outputId": "71a02ede-a5cf-4082-fff6-0da80e8dc708"
      },
      "execution_count": 4,
      "outputs": [
        {
          "output_type": "stream",
          "name": "stdout",
          "text": [
            "a    10\n",
            "b    20\n",
            "c    30\n",
            "d    40\n",
            "e    50\n",
            "dtype: int64\n"
          ]
        }
      ]
    },
    {
      "cell_type": "markdown",
      "source": [
        "##Serinin Özellikleri\n",
        "\n",
        "Serinin bazı önemli özellikleri şunlardır:\n",
        "\n",
        "- s.index: Series'in indeksini  (etiketleri) döndürür.\n",
        "- s.values: Series'in değerlerini döndürür.\n",
        "- s.dtype: Series'in veri tipini döndürür."
      ],
      "metadata": {
        "id": "qZMukZpua0B3"
      }
    },
    {
      "cell_type": "code",
      "source": [
        "data = [10,20,30,40,50]\n",
        "\n",
        "index_labels=['a','b,','c','d','e']\n",
        "\n",
        "s = pd.Series(data,index=index_labels)\n",
        "\n",
        "print(\"Series Indexleri:\",s.index)\n",
        "print(\"Series Değerleri:\",s.values)\n",
        "print(\"Series Veri Tipi:\",s.dtype)"
      ],
      "metadata": {
        "colab": {
          "base_uri": "https://localhost:8080/"
        },
        "id": "U9qZrTHOa2sH",
        "outputId": "123429f4-dc6e-4019-fd8f-933993435608"
      },
      "execution_count": 5,
      "outputs": [
        {
          "output_type": "stream",
          "name": "stdout",
          "text": [
            "Series Indexleri: Index(['a', 'b,', 'c', 'd', 'e'], dtype='object')\n",
            "Series Değerleri: [10 20 30 40 50]\n",
            "Series Veri Tipi: int64\n"
          ]
        }
      ]
    },
    {
      "cell_type": "markdown",
      "source": [
        "##Seriye Veri Ekleme ve Çıkarma"
      ],
      "metadata": {
        "id": "AAMj1O2YbL9P"
      }
    },
    {
      "cell_type": "code",
      "source": [
        "data = [10,20,30,40,50]\n",
        "\n",
        "index_labels = ['a','b','c','d','e']\n",
        "s = pd.Series(data,index=index_labels)\n",
        "\n",
        "#veri ekleme\n",
        "s['f'] = 60\n",
        "print(s)\n",
        "\n",
        "#veri çıkarma\n",
        "s = s.drop('a') # a indeksine sahip veriyi çıkarır\n",
        "print(s)"
      ],
      "metadata": {
        "colab": {
          "base_uri": "https://localhost:8080/"
        },
        "id": "gWfa3aufbN0w",
        "outputId": "bdac73d2-8ea5-47fb-a2c3-02e36853d734"
      },
      "execution_count": 11,
      "outputs": [
        {
          "output_type": "stream",
          "name": "stdout",
          "text": [
            "a    10\n",
            "b    20\n",
            "c    30\n",
            "d    40\n",
            "e    50\n",
            "f    60\n",
            "dtype: int64\n",
            "b    20\n",
            "c    30\n",
            "d    40\n",
            "e    50\n",
            "f    60\n",
            "dtype: int64\n"
          ]
        }
      ]
    },
    {
      "cell_type": "markdown",
      "source": [
        "##Serilerde temel işlemler"
      ],
      "metadata": {
        "id": "OZnqUjrScOyZ"
      }
    },
    {
      "cell_type": "code",
      "source": [
        "data = [10,20,30,40,50]\n",
        "index_labels =['a','b','c','d','e']\n",
        "s = pd.Series(data, index =index_labels)\n",
        "\n",
        "s = s+5\n",
        "print(s)\n",
        "\n",
        "s = s-3\n",
        "print(s)"
      ],
      "metadata": {
        "colab": {
          "base_uri": "https://localhost:8080/"
        },
        "id": "Wyhx-xTYcQsm",
        "outputId": "c36a37e0-7334-4dfa-f6c6-f6f6d4c12c44"
      },
      "execution_count": 12,
      "outputs": [
        {
          "output_type": "stream",
          "name": "stdout",
          "text": [
            "a    15\n",
            "b    25\n",
            "c    35\n",
            "d    45\n",
            "e    55\n",
            "dtype: int64\n",
            "a    12\n",
            "b    22\n",
            "c    32\n",
            "d    42\n",
            "e    52\n",
            "dtype: int64\n"
          ]
        }
      ]
    },
    {
      "cell_type": "markdown",
      "source": [
        "##DataFrame\n",
        "\n",
        "DataFrame, verilerin satır ve sütunlarla düzenlendiği iki boyutlu bir veri yapısıdır. Her satır ve her sütun bir etikete (index) sahiptir. Bir DataFrame, bir veya birden fazla Series'in birleşimi olarak düşünülebilir.\n",
        "\n",
        "DataFrame Özellikleri:\n",
        "\n",
        "- İki boyutludur: Satır ve sütunlardan oluşur.\n",
        "- Hem satır hem de sütun etiketleri  \n",
        "- (index) bulunur.\n",
        "Kolonlar farklı veri türlerinde olabilir: sayılar, metinler, tarih, vb.\n"
      ],
      "metadata": {
        "id": "Oihyu6yBczVO"
      }
    },
    {
      "cell_type": "code",
      "source": [
        "# Sözlük ile DataFrame oluşturma\n",
        "\n",
        "data = {'Name':['Mahmut','Esat','Yusuf'],\n",
        "        'Age':[25,30,45],\n",
        "        'City': ['Konya','Ankara','İstanbul'] }\n",
        "\n",
        "df = pd.DataFrame(data)\n",
        "\n",
        "print(df)"
      ],
      "metadata": {
        "colab": {
          "base_uri": "https://localhost:8080/"
        },
        "id": "zaODOirwdPnk",
        "outputId": "b64363f6-49d2-4939-9ab7-596c42dbe403"
      },
      "execution_count": 13,
      "outputs": [
        {
          "output_type": "stream",
          "name": "stdout",
          "text": [
            "     Name  Age      City\n",
            "0  Mahmut   25     Konya\n",
            "1    Esat   30    Ankara\n",
            "2   Yusuf   45  İstanbul\n"
          ]
        }
      ]
    },
    {
      "cell_type": "code",
      "source": [
        "# Sözlük ile DataFrame oluşturma özel indexli\n",
        "\n",
        "data = {'Name':['Mahmut','Esat','Yusuf'],\n",
        "        'Age':[25,30,45],\n",
        "        'City': ['Konya','Ankara','İstanbul'] }\n",
        "\n",
        "index_labels = ['a','b','c']\n",
        "\n",
        "df = pd.DataFrame(data, index= index_labels)\n",
        "\n",
        "print(df)"
      ],
      "metadata": {
        "colab": {
          "base_uri": "https://localhost:8080/"
        },
        "id": "SAvnmf7HdyvJ",
        "outputId": "2cae4178-471d-48ae-a15e-bf8e03f87552"
      },
      "execution_count": 14,
      "outputs": [
        {
          "output_type": "stream",
          "name": "stdout",
          "text": [
            "     Name  Age      City\n",
            "a  Mahmut   25     Konya\n",
            "b    Esat   30    Ankara\n",
            "c   Yusuf   45  İstanbul\n"
          ]
        }
      ]
    },
    {
      "cell_type": "markdown",
      "source": [
        "##DataFrame Üzerinde Erişim\n",
        "\n",
        "DataFrame’deki verilere erişmek için birkaç farklı yöntem kullanabiliriz.\n",
        "\n",
        "- Sütunlara Erişim: Bir sütuna erişmek için sütun ismini kullanabiliriz.\n",
        "- Satırlara Erişim: Bir satıra erişmek için indeks kullanabiliriz."
      ],
      "metadata": {
        "id": "SmeuD4OmeGfi"
      }
    },
    {
      "cell_type": "code",
      "source": [
        "data = {'Name':['Mahmut','Esat','Yusuf'],\n",
        "        'Age':[25,30,45],\n",
        "        'City': ['Konya','Ankara','İstanbul'] }\n",
        "\n",
        "df = pd.DataFrame(data)\n",
        "print(df)\n",
        "print()\n",
        "#Sütuna erişim\n",
        "print(df['Name'])\n",
        "print()\n",
        "# Satıra Erişim (iloc ile)\n",
        "print(df.iloc[1])"
      ],
      "metadata": {
        "colab": {
          "base_uri": "https://localhost:8080/"
        },
        "id": "44ftDFc0eKJK",
        "outputId": "01f7e9f7-8607-49ee-d7fe-a4e20128aa36"
      },
      "execution_count": 17,
      "outputs": [
        {
          "output_type": "stream",
          "name": "stdout",
          "text": [
            "     Name  Age      City\n",
            "0  Mahmut   25     Konya\n",
            "1    Esat   30    Ankara\n",
            "2   Yusuf   45  İstanbul\n",
            "\n",
            "0    Mahmut\n",
            "1      Esat\n",
            "2     Yusuf\n",
            "Name: Name, dtype: object\n",
            "\n",
            "Name      Esat\n",
            "Age         30\n",
            "City    Ankara\n",
            "Name: 1, dtype: object\n"
          ]
        }
      ]
    },
    {
      "cell_type": "markdown",
      "source": [],
      "metadata": {
        "id": "Ffje0rOMel10"
      }
    },
    {
      "cell_type": "markdown",
      "source": [
        "##DataFrame Üzerinde Veri Manipülasyonu"
      ],
      "metadata": {
        "id": "e_81jl3wel3B"
      }
    },
    {
      "cell_type": "code",
      "source": [
        "data = {'Name':['Mahmut','Esat','Yusuf'],\n",
        "        'Age':[25,30,45],\n",
        "        'City': ['Konya','Ankara','İstanbul'] }\n",
        "\n",
        "df = pd.DataFrame(data)\n",
        "\n",
        "#Yeni sütun ekleme\n",
        "df['Country'] = ['Türkiye','Türkiye','Türkiye']\n",
        "\n",
        "print(df)"
      ],
      "metadata": {
        "colab": {
          "base_uri": "https://localhost:8080/"
        },
        "id": "npvy7KUMeni9",
        "outputId": "75b7eb0d-b0f7-47be-ee6a-bdafdd0f3a30"
      },
      "execution_count": 18,
      "outputs": [
        {
          "output_type": "stream",
          "name": "stdout",
          "text": [
            "     Name  Age      City  Country\n",
            "0  Mahmut   25     Konya  Türkiye\n",
            "1    Esat   30    Ankara  Türkiye\n",
            "2   Yusuf   45  İstanbul  Türkiye\n"
          ]
        }
      ]
    },
    {
      "cell_type": "markdown",
      "source": [
        "## Satır Silme"
      ],
      "metadata": {
        "id": "50MvJeKKfJTt"
      }
    },
    {
      "cell_type": "code",
      "source": [
        "data = {'Name':['Mahmut','Esat','Yusuf'],\n",
        "        'Age':[25,30,45],\n",
        "        'City': ['Konya','Ankara','İstanbul'] }\n",
        "\n",
        "df = pd.DataFrame(data)\n",
        "\n",
        "# Satır Silme\n",
        "df=df.drop(1) # 1. satırı siler\n",
        "\n",
        "print(df)"
      ],
      "metadata": {
        "colab": {
          "base_uri": "https://localhost:8080/"
        },
        "id": "PyD-y2-ifKwn",
        "outputId": "554684aa-ebac-434a-ab11-bacab80a7804"
      },
      "execution_count": 19,
      "outputs": [
        {
          "output_type": "stream",
          "name": "stdout",
          "text": [
            "     Name  Age      City\n",
            "0  Mahmut   25     Konya\n",
            "2   Yusuf   45  İstanbul\n"
          ]
        }
      ]
    },
    {
      "cell_type": "markdown",
      "source": [
        "##Veri Seçme ve Filtreleme"
      ],
      "metadata": {
        "id": "OauG1EZEh8mT"
      }
    },
    {
      "cell_type": "code",
      "source": [
        "data = {'Name':['Mahmut','Esat','Yusuf'],\n",
        "        'Age':[25,30,45],\n",
        "        'City': ['Konya','Ankara','İstanbul'] }\n",
        "index_labels=['1','2','3']\n",
        "df = pd.DataFrame(data,index=index_labels)\n",
        "\n",
        "#Koşullu veri seçme\n",
        "filtered_df=df[df['Age'] >29 ]\n",
        "print(filtered_df)"
      ],
      "metadata": {
        "colab": {
          "base_uri": "https://localhost:8080/"
        },
        "id": "03Bopbdph__5",
        "outputId": "12152907-b7ea-4758-9095-bcb86d88b6a6"
      },
      "execution_count": 22,
      "outputs": [
        {
          "output_type": "stream",
          "name": "stdout",
          "text": [
            "    Name  Age      City\n",
            "2   Esat   30    Ankara\n",
            "3  Yusuf   45  İstanbul\n"
          ]
        }
      ]
    },
    {
      "cell_type": "markdown",
      "source": [
        "## Veri Gruplama (GROUP BY)"
      ],
      "metadata": {
        "id": "ObVcZhihidkJ"
      }
    },
    {
      "cell_type": "code",
      "source": [
        "data = {'Name':['Mahmut','Esat','Yusuf'],\n",
        "        'Age':[25,30,45],\n",
        "        'City': ['Konya','Ankara','İstanbul'] }\n",
        "\n",
        "df = pd.DataFrame(data)\n",
        "\n",
        "#'City' sütununa göre gruplama\n",
        "grouped = df.groupby('City')\n",
        "print(grouped['Age'].mean())"
      ],
      "metadata": {
        "colab": {
          "base_uri": "https://localhost:8080/"
        },
        "id": "AfNEcq54ihO3",
        "outputId": "95f9e3ee-5ab5-4588-8471-061fb8ec9eec"
      },
      "execution_count": 25,
      "outputs": [
        {
          "output_type": "stream",
          "name": "stdout",
          "text": [
            "City\n",
            "Ankara      30.0\n",
            "Konya       25.0\n",
            "İstanbul    45.0\n",
            "Name: Age, dtype: float64\n"
          ]
        }
      ]
    },
    {
      "cell_type": "markdown",
      "source": [
        "##Pandas ile Veri Okuma ve Yazma"
      ],
      "metadata": {
        "id": "iTrDmlfti-dO"
      }
    },
    {
      "cell_type": "code",
      "source": [
        "data = pd.read_csv('/content/drive/MyDrive/Colab Notebooks/bank-full.csv')\n",
        "import numpy as np\n",
        "\n",
        "df = pd.DataFrame(data)\n",
        "print(df)"
      ],
      "metadata": {
        "colab": {
          "base_uri": "https://localhost:8080/"
        },
        "id": "C0ieN0xBjCVv",
        "outputId": "d6f5a7c2-484e-4636-a5f3-f789882910d5"
      },
      "execution_count": 41,
      "outputs": [
        {
          "output_type": "stream",
          "name": "stdout",
          "text": [
            "      age;\"job\";\"marital\";\"education\";\"default\";\"balance\";\"housing\";\"loan\";\"contact\";\"day\";\"month\";\"duration\";\"campaign\";\"pdays\";\"previous\";\"poutcome\";\"y\"\n",
            "0      58;\"management\";\"married\";\"tertiary\";\"no\";2143...                                                                                                  \n",
            "1      44;\"technician\";\"single\";\"secondary\";\"no\";29;\"...                                                                                                  \n",
            "2      33;\"entrepreneur\";\"married\";\"secondary\";\"no\";2...                                                                                                  \n",
            "3      47;\"blue-collar\";\"married\";\"unknown\";\"no\";1506...                                                                                                  \n",
            "4      33;\"unknown\";\"single\";\"unknown\";\"no\";1;\"no\";\"n...                                                                                                  \n",
            "...                                                  ...                                                                                                  \n",
            "45206  51;\"technician\";\"married\";\"tertiary\";\"no\";825;...                                                                                                  \n",
            "45207  71;\"retired\";\"divorced\";\"primary\";\"no\";1729;\"n...                                                                                                  \n",
            "45208  72;\"retired\";\"married\";\"secondary\";\"no\";5715;\"...                                                                                                  \n",
            "45209  57;\"blue-collar\";\"married\";\"secondary\";\"no\";66...                                                                                                  \n",
            "45210  37;\"entrepreneur\";\"married\";\"secondary\";\"no\";2...                                                                                                  \n",
            "\n",
            "[45211 rows x 1 columns]\n"
          ]
        }
      ]
    },
    {
      "cell_type": "markdown",
      "source": [
        "##DataFrame i CSV Dosyası içine yazma"
      ],
      "metadata": {
        "id": "NtwxoenDmpSs"
      }
    },
    {
      "cell_type": "code",
      "source": [
        "import pandas as pd\n",
        "\n",
        "# Örnek DataFrame\n",
        "data = {'Name': ['Alice', 'Bob', 'Charlie'],\n",
        "        'Age': [25, 30, 35],\n",
        "        'City': ['New York', 'Los Angeles', 'Chicago']}\n",
        "df = pd.DataFrame(data)\n",
        "\n",
        "# DataFrame'i CSV dosyasına yazma\n",
        "df.to_csv('output.csv', index=False)\n"
      ],
      "metadata": {
        "id": "ViF5Zu22muSn"
      },
      "execution_count": null,
      "outputs": []
    },
    {
      "cell_type": "markdown",
      "source": [
        "##Excel Dosyası Okuma"
      ],
      "metadata": {
        "id": "LPrlPt47mxG8"
      }
    },
    {
      "cell_type": "code",
      "source": [
        "import pandas as pd\n",
        "\n",
        "# Excel dosyasını okuma\n",
        "df = pd.read_excel('data.xlsx')\n",
        "\n",
        "# DataFrame'i yazdırma\n",
        "print(df)\n"
      ],
      "metadata": {
        "id": "tgtgZCthmzZP"
      },
      "execution_count": null,
      "outputs": []
    },
    {
      "cell_type": "markdown",
      "source": [
        "##JSON Dosyası Okuma"
      ],
      "metadata": {
        "id": "VMf-Wvtrm2XF"
      }
    },
    {
      "cell_type": "code",
      "source": [
        "import pandas as pd\n",
        "\n",
        "# JSON dosyasını okuma\n",
        "df = pd.read_json('data.json')\n",
        "\n",
        "# DataFrame'i yazdırma\n",
        "print(df)\n"
      ],
      "metadata": {
        "id": "VVNZ5KM_m4gj"
      },
      "execution_count": null,
      "outputs": []
    },
    {
      "cell_type": "markdown",
      "source": [
        "##JSON Dosyasına Yazma"
      ],
      "metadata": {
        "id": "ZkXxxxXum6xN"
      }
    },
    {
      "cell_type": "code",
      "source": [
        "import pandas as pd\n",
        "\n",
        "# Örnek DataFrame\n",
        "data = {'Name': ['Alice', 'Bob', 'Charlie'],\n",
        "        'Age': [25, 30, 35],\n",
        "        'City': ['New York', 'Los Angeles', 'Chicago']}\n",
        "df = pd.DataFrame(data)\n",
        "\n",
        "# DataFrame'i JSON dosyasına yazma\n",
        "df.to_json('output.json')\n"
      ],
      "metadata": {
        "id": "otKFJuy0m8wJ"
      },
      "execution_count": null,
      "outputs": []
    },
    {
      "cell_type": "markdown",
      "source": [
        "## Veri Temizleme ve Düzenleme\n",
        "- Eksik Verileri Kontrol Etme\n",
        "Bir DataFrame içinde eksik verileri kontrol etmek için isna() veya isnull() fonksiyonları kullanılabilir. Bu fonksiyonlar, her bir hücredeki verinin eksik olup olmadığını kontrol eder."
      ],
      "metadata": {
        "id": "sXxYzLGLnFrU"
      }
    },
    {
      "cell_type": "code",
      "source": [
        "import pandas as pd\n",
        "\n",
        "# Örnek DataFrame\n",
        "data = {'Name': ['Alice', 'Bob', None, 'David'],\n",
        "        'Age': [25, None, 35, 40],\n",
        "        'City': ['New York', 'Los Angeles', 'Chicago', None]}\n",
        "df = pd.DataFrame(data)\n",
        "\n",
        "# Eksik veriyi kontrol etme\n",
        "print(df.isna())\n"
      ],
      "metadata": {
        "colab": {
          "base_uri": "https://localhost:8080/"
        },
        "id": "HhOak0-8nNNv",
        "outputId": "ca5cfd11-7b44-43b6-f85d-6d3653a8711e"
      },
      "execution_count": 42,
      "outputs": [
        {
          "output_type": "stream",
          "name": "stdout",
          "text": [
            "    Name    Age   City\n",
            "0  False  False  False\n",
            "1  False   True  False\n",
            "2   True  False  False\n",
            "3  False  False   True\n"
          ]
        }
      ]
    },
    {
      "cell_type": "markdown",
      "source": [
        "##Eksik verilerin satırlardan kaldırılması"
      ],
      "metadata": {
        "id": "foJMNfDsnRJb"
      }
    },
    {
      "cell_type": "code",
      "source": [
        "df_cleaned = df.dropna()\n",
        "print(df_cleaned)"
      ],
      "metadata": {
        "colab": {
          "base_uri": "https://localhost:8080/"
        },
        "id": "dwvs9VzXnU9w",
        "outputId": "04ff5288-eeff-42d4-f4b7-385303609966"
      },
      "execution_count": 43,
      "outputs": [
        {
          "output_type": "stream",
          "name": "stdout",
          "text": [
            "    Name   Age      City\n",
            "0  Alice  25.0  New York\n"
          ]
        }
      ]
    },
    {
      "cell_type": "markdown",
      "source": [
        "##Veri Filtreleme ve Seçme"
      ],
      "metadata": {
        "id": "0cGuqw7_naI7"
      }
    },
    {
      "cell_type": "code",
      "source": [
        "# \"Name\" sütununu seçme\n",
        "names = df['Name']\n",
        "print(names)\n"
      ],
      "metadata": {
        "colab": {
          "base_uri": "https://localhost:8080/"
        },
        "id": "-UIUtO5qnd5l",
        "outputId": "71547207-9abf-402d-8a59-5dcef087b683"
      },
      "execution_count": 44,
      "outputs": [
        {
          "output_type": "stream",
          "name": "stdout",
          "text": [
            "0    Alice\n",
            "1      Bob\n",
            "2     None\n",
            "3    David\n",
            "Name: Name, dtype: object\n"
          ]
        }
      ]
    },
    {
      "cell_type": "markdown",
      "source": [
        "Birden Fazla Sütun Seçme"
      ],
      "metadata": {
        "id": "M-yLTwxqnhgk"
      }
    },
    {
      "cell_type": "code",
      "source": [
        "# \"Name\" ve \"Age\" sütunlarını seçme\n",
        "subset = df[['Name', 'Age']]\n",
        "print(subset)\n"
      ],
      "metadata": {
        "colab": {
          "base_uri": "https://localhost:8080/"
        },
        "id": "4UFwbL3cniJX",
        "outputId": "4ea92fa0-3978-48ac-9b00-624f67cb4352"
      },
      "execution_count": 45,
      "outputs": [
        {
          "output_type": "stream",
          "name": "stdout",
          "text": [
            "    Name   Age\n",
            "0  Alice  25.0\n",
            "1    Bob   NaN\n",
            "2   None  35.0\n",
            "3  David  40.0\n"
          ]
        }
      ]
    },
    {
      "cell_type": "markdown",
      "source": [
        "##Veri Tiplerini Düzenleme\n",
        "Veri setindeki her sütunun doğru veri tipine sahip olması önemlidir. Pandas, veri tiplerini değiştirmek için astype() fonksiyonunu sunar."
      ],
      "metadata": {
        "id": "PPyBciL7nnF0"
      }
    },
    {
      "cell_type": "code",
      "source": [
        "# \"Age\" sütununu integer tipine dönüştürme\n",
        "# NaN değerlerini öncelikle bir integer değere dönüştürün (örneğin, 0 veya -1)\n",
        "# veya dropna() kullanarak NaN değerlerine sahip satırları kaldırın.\n",
        "\n",
        "df['Age'] = df['Age'].fillna(-1).astype(int)\n",
        "print(df)"
      ],
      "metadata": {
        "colab": {
          "base_uri": "https://localhost:8080/"
        },
        "id": "_rCuVnMbnsBE",
        "outputId": "711187f1-8e82-44b9-9448-a4533ff1d4f1"
      },
      "execution_count": 47,
      "outputs": [
        {
          "output_type": "stream",
          "name": "stdout",
          "text": [
            "    Name  Age         City\n",
            "0  Alice   25     New York\n",
            "1    Bob   -1  Los Angeles\n",
            "2   None   35      Chicago\n",
            "3  David   40         None\n"
          ]
        }
      ]
    },
    {
      "cell_type": "markdown",
      "source": [
        "Sütun adlarını düzenleme"
      ],
      "metadata": {
        "id": "ddhmY3z2n62K"
      }
    },
    {
      "cell_type": "code",
      "source": [
        "# Sütun isimlerini değiştirme\n",
        "df = df.rename(columns={'Name': 'Full Name', 'Age': 'Years'})\n",
        "print(df)\n"
      ],
      "metadata": {
        "colab": {
          "base_uri": "https://localhost:8080/"
        },
        "id": "wfLaF8bpn84s",
        "outputId": "dde4fdc8-cb17-4a58-a41f-5ea56ce9b689"
      },
      "execution_count": 48,
      "outputs": [
        {
          "output_type": "stream",
          "name": "stdout",
          "text": [
            "  Full Name  Years         City\n",
            "0     Alice     25     New York\n",
            "1       Bob     -1  Los Angeles\n",
            "2      None     35      Chicago\n",
            "3     David     40         None\n"
          ]
        }
      ]
    },
    {
      "cell_type": "markdown",
      "source": [
        "## Birleştirme  Gruplama ve Pivot"
      ],
      "metadata": {
        "id": "ifo7Ira71vl2"
      }
    },
    {
      "cell_type": "markdown",
      "source": [
        "##Verileri birleştirme\n",
        "- merge(): SQL'deki JOIN işlemine benzer şekilde iki DataFrame'i belirli bir sütuna göre birleştirir.\n",
        "- concat(): Birden fazla DataFrame'i sırasıyla ya da yatayda birleştirir.\n",
        "- join(): Genellikle bir DataFrame'in diğerine eklenmesi gerektiğinde kullanılır, genelde index tabanlı birleştirme yapar."
      ],
      "metadata": {
        "id": "wsNUqfdX11Wj"
      }
    },
    {
      "cell_type": "code",
      "source": [
        "df1 = pd.DataFrame({\n",
        "    'Employee':['Mahmut','Esat','Yusuf'],\n",
        "    'Department':['Yazılım','Pazarlama','Finansal']\n",
        "})\n",
        "\n",
        "df2 = pd.DataFrame({\n",
        "    'Employee':['Mahmut','Esat','Yusuf'],\n",
        "    'Salary':[3000,4000,5000]\n",
        "})\n",
        "\n",
        "#Merge ile birleştirme\n",
        "result = pd.merge(df1,df2,on='Employee',how='inner')\n",
        "print(result)\n",
        "#\n"
      ],
      "metadata": {
        "colab": {
          "base_uri": "https://localhost:8080/"
        },
        "id": "3ub-YStO1-Lr",
        "outputId": "4b9b9f28-03f9-4502-fe8d-7ce9741a7438"
      },
      "execution_count": 49,
      "outputs": [
        {
          "output_type": "stream",
          "name": "stdout",
          "text": [
            "  Employee Department  Salary\n",
            "0   Mahmut    Yazılım    3000\n",
            "1     Esat  Pazarlama    4000\n",
            "2    Yusuf   Finansal    5000\n"
          ]
        }
      ]
    },
    {
      "cell_type": "markdown",
      "source": [
        "Concat()"
      ],
      "metadata": {
        "id": "XOR5BU3M2d6f"
      }
    },
    {
      "cell_type": "code",
      "source": [
        "df1 = pd.DataFrame({\n",
        "    'Employee':['Mahmut','Esat','Yusuf'],\n",
        "    'Department':['Yazılım','Pazarlama','Finansal']\n",
        "})\n",
        "\n",
        "df2 = pd.DataFrame({\n",
        "    'Employee':['Ahmet','Mehmet','Ali'],\n",
        "    'Department':['Pazarlama','Finansal','Yazılım']\n",
        "})\n",
        "\n",
        "#Concat ile birleştirme(dikey birleştirme)\n",
        "\n",
        "result = pd.concat([df1,df2],axis=0)\n",
        "print(result)"
      ],
      "metadata": {
        "colab": {
          "base_uri": "https://localhost:8080/"
        },
        "id": "G_EDr_9X2fQt",
        "outputId": "cc422e1e-a24f-41ac-cf8c-f607ae3305aa"
      },
      "execution_count": 57,
      "outputs": [
        {
          "output_type": "stream",
          "name": "stdout",
          "text": [
            "  Employee Department\n",
            "0   Mahmut    Yazılım\n",
            "1     Esat  Pazarlama\n",
            "2    Yusuf   Finansal\n",
            "0    Ahmet  Pazarlama\n",
            "1   Mehmet   Finansal\n",
            "2      Ali    Yazılım\n"
          ]
        }
      ]
    },
    {
      "cell_type": "markdown",
      "source": [
        "Join()"
      ],
      "metadata": {
        "id": "tLTal7Cp25Mg"
      }
    },
    {
      "cell_type": "code",
      "source": [
        "df1 = pd.DataFrame({'Employee':['Alice','Bob'], 'Department':['HR','Finance']})\n",
        "df2 = pd.DataFrame({'Salary':[5000,4000], 'index':['Alice','Bob']})\n",
        "\n",
        "# Join ile birleştirme\n",
        "result = df1.set_index('Employee').join(df2)\n",
        "print(result)"
      ],
      "metadata": {
        "colab": {
          "base_uri": "https://localhost:8080/"
        },
        "id": "-JGukgrk26wR",
        "outputId": "c93e76e7-cc58-4a88-f024-6c06867e15cc"
      },
      "execution_count": 58,
      "outputs": [
        {
          "output_type": "stream",
          "name": "stdout",
          "text": [
            "         Department  Salary index\n",
            "Employee                         \n",
            "Alice            HR     NaN   NaN\n",
            "Bob         Finance     NaN   NaN\n"
          ]
        }
      ]
    },
    {
      "cell_type": "markdown",
      "source": [
        "##Gruplama ve Toplama: .groupby()\n",
        "\n",
        "Veri setlerini belirli bir kritere göre gruplamak, ardından her grup üzerinde özet istatistikler hesaplamak yaygın bir işlemdir. Pandas, bunu gerçekleştirmek için .groupby() fonksiyonunu sağlar"
      ],
      "metadata": {
        "id": "nMF_KEc_3mem"
      }
    },
    {
      "cell_type": "code",
      "source": [
        "data = {\n",
        "    'Department': ['IT', 'HR', 'IT', 'Finance', 'HR', 'IT'],\n",
        "    'Employee': ['Alice', 'Bob', 'Charlie', 'David', 'Eve', 'Frank'],\n",
        "    'Salary': [5000, 4000, 3500, 6000, 4500, 5500]}\n",
        "\n",
        "df =pd.DataFrame(data)\n",
        "\n",
        "#Gruplama ve Ortalama Hesaplama\n",
        "grouped = df.groupby('Department')['Salary'].mean()\n",
        "print(grouped)\n"
      ],
      "metadata": {
        "colab": {
          "base_uri": "https://localhost:8080/"
        },
        "id": "kSDGrZ8z3qZV",
        "outputId": "60130ae2-5cf6-4887-c834-b0437658706e"
      },
      "execution_count": 59,
      "outputs": [
        {
          "output_type": "stream",
          "name": "stdout",
          "text": [
            "Department\n",
            "Finance    6000.000000\n",
            "HR         4250.000000\n",
            "IT         4666.666667\n",
            "Name: Salary, dtype: float64\n"
          ]
        }
      ]
    },
    {
      "cell_type": "markdown",
      "source": [
        "##Pivot Tablo Oluşturma: pivot() ve pivot_table()\n",
        "\n",
        "Pandas, verileri özetlemek ve analiz etmek için pivot tablolar oluşturma yeteneği sunar. pivot() ve pivot_table() fonksiyonları ile verileri hem satır hem de sütun bazında gruplandırabilir ve özetleyebilirsiniz.\n",
        "\n",
        "- pivot(): Basit pivot tablosu oluşturmak için kullanılır.\n",
        "- pivot_table(): Daha esnek bir fonksiyondur, agregasyon işlemleri ve veri özetleme gibi ek özellikler sunar."
      ],
      "metadata": {
        "id": "psYHIaWb4FWO"
      }
    },
    {
      "cell_type": "code",
      "source": [
        "data = {\n",
        "    'Department': ['IT', 'HR', 'IT', 'Finance', 'HR', 'IT'],\n",
        "    'Employee': ['Alice', 'Bob', 'Charlie', 'David', 'Eve', 'Frank'],\n",
        "    'Salary': [5000, 4000, 3500, 6000, 4500, 5500]\n",
        "}\n",
        "df = pd.DataFrame(data)\n",
        "\n",
        "# Pivot Tablo Oluşturma\n",
        "pivot = df.pivot(index='Department', columns='Employee', values='Salary')\n",
        "print(pivot)"
      ],
      "metadata": {
        "colab": {
          "base_uri": "https://localhost:8080/"
        },
        "id": "YYzEuoOc4MzK",
        "outputId": "3abc2218-4f3c-4252-bd2b-885e000eaa29"
      },
      "execution_count": 60,
      "outputs": [
        {
          "output_type": "stream",
          "name": "stdout",
          "text": [
            "Employee     Alice     Bob  Charlie   David     Eve   Frank\n",
            "Department                                                 \n",
            "Finance        NaN     NaN      NaN  6000.0     NaN     NaN\n",
            "HR             NaN  4000.0      NaN     NaN  4500.0     NaN\n",
            "IT          5000.0     NaN   3500.0     NaN     NaN  5500.0\n"
          ]
        }
      ]
    },
    {
      "cell_type": "code",
      "source": [
        "data = {\n",
        "    'Department': ['IT', 'HR', 'IT', 'Finance', 'HR', 'IT'],\n",
        "    'Employee': ['Alice', 'Bob', 'Charlie', 'David', 'Eve', 'Frank'],\n",
        "    'Salary': [5000, 4000, 3500, 6000, 4500, 5500],\n",
        "    'Age': [25, 30, 35, 40, 45, 50]\n",
        "}\n",
        "df = pd.DataFrame(data)\n",
        "\n",
        "# Pivot Tablo Oluşturma\n",
        "pivot_table = df.pivot_table(values='Salary', index='Department', columns='Age', aggfunc='mean')\n",
        "print(pivot_table)"
      ],
      "metadata": {
        "colab": {
          "base_uri": "https://localhost:8080/"
        },
        "id": "UmNyFwd_4VX_",
        "outputId": "7b46d0aa-f0ea-4de5-c40a-952f5b992573"
      },
      "execution_count": 61,
      "outputs": [
        {
          "output_type": "stream",
          "name": "stdout",
          "text": [
            "Age             25      30      35      40      45      50\n",
            "Department                                                \n",
            "Finance        NaN     NaN     NaN  6000.0     NaN     NaN\n",
            "HR             NaN  4000.0     NaN     NaN  4500.0     NaN\n",
            "IT          5000.0     NaN  3500.0     NaN     NaN  5500.0\n"
          ]
        }
      ]
    },
    {
      "cell_type": "markdown",
      "source": [
        "##Veri Dönüşümü ve Uygulamalar"
      ],
      "metadata": {
        "id": "nQFNhkY65Pyf"
      }
    },
    {
      "cell_type": "markdown",
      "source": [
        "##Veriyi Yeniden Şekillendirme:\n",
        "Veriyi yeniden şekillendirmek, verilerin analiz için uygun hale getirilmesini sağlar.\n",
        "- melt() fonksiyonu, verileri uzun formatta dönüştürmek için kullanılırken,\n",
        "- pivot() fonksiyonu verileri geniş formatta düzenler."
      ],
      "metadata": {
        "id": "gJhGnRLu5Ul_"
      }
    },
    {
      "cell_type": "code",
      "source": [
        "# Örnek DataFrame\n",
        "data = {\n",
        "    'Year': [2020, 2021, 2022],\n",
        "    'Q1': [200, 220, 250],\n",
        "    'Q2': [210, 230, 260],\n",
        "    'Q3': [220, 240, 270],\n",
        "}\n",
        "df = pd.DataFrame(data)\n",
        "\n",
        "# melt() ile veri yeniden şekillendirme\n",
        "melted_df = df.melt(id_vars='Year', var_name='Quarter', value_name='Sales')\n",
        "print(melted_df)"
      ],
      "metadata": {
        "colab": {
          "base_uri": "https://localhost:8080/"
        },
        "id": "Xhv4_gMx5TzL",
        "outputId": "580528e6-58d3-4494-aec0-33436c6b1836"
      },
      "execution_count": 63,
      "outputs": [
        {
          "output_type": "stream",
          "name": "stdout",
          "text": [
            "   Year Quarter  Sales\n",
            "0  2020      Q1    200\n",
            "1  2021      Q1    220\n",
            "2  2022      Q1    250\n",
            "3  2020      Q2    210\n",
            "4  2021      Q2    230\n",
            "5  2022      Q2    260\n",
            "6  2020      Q3    220\n",
            "7  2021      Q3    240\n",
            "8  2022      Q3    270\n"
          ]
        }
      ]
    },
    {
      "cell_type": "code",
      "source": [
        "\n",
        "data = {\n",
        "    'Year': [2020, 2021, 2022],\n",
        "    'Quarter': ['Q1', 'Q2', 'Q3'],\n",
        "    'Sales': [200, 220, 250]\n",
        "}\n",
        "df = pd.DataFrame(data)\n",
        "\n",
        "# pivot() ile veri yeniden şekillendirme\n",
        "pivoted_df = df.pivot(index='Year', columns='Quarter', values='Sales')\n",
        "print(pivoted_df)\n"
      ],
      "metadata": {
        "colab": {
          "base_uri": "https://localhost:8080/"
        },
        "id": "gmyz7gbC5kQP",
        "outputId": "cab65123-d055-4f2f-a0bb-45f086d14b47"
      },
      "execution_count": 64,
      "outputs": [
        {
          "output_type": "stream",
          "name": "stdout",
          "text": [
            "Quarter     Q1     Q2     Q3\n",
            "Year                        \n",
            "2020     200.0    NaN    NaN\n",
            "2021       NaN  220.0    NaN\n",
            "2022       NaN    NaN  250.0\n"
          ]
        }
      ]
    },
    {
      "cell_type": "markdown",
      "source": [
        "##Fonksiyon Uygulama:\n",
        "\n",
        "Pandas, veri üzerinde fonksiyonları uygulamak için üç temel yöntem sunar:\n",
        "\n",
        "- apply(): Veri çerçevesindeki her sütun veya satır üzerine fonksiyon uygular.\n",
        "- map(): Genellikle bir sütun üzerine dönüşüm yapmak için kullanılır. Her elemanı tek bir değere dönüştürür.\n",
        "- applymap(): Veri çerçevesinin her bir hücresine fonksiyon uygular."
      ],
      "metadata": {
        "id": "BGL_o_L15p9O"
      }
    },
    {
      "cell_type": "code",
      "source": [
        "# Örnek DataFrame\n",
        "data = {\n",
        "    'A': [1, 2, 3],\n",
        "    'B': [4, 5, 6]\n",
        "}\n",
        "df = pd.DataFrame(data)\n",
        "\n",
        "# apply() ile her sütuna fonksiyon uygulama\n",
        "df_applied = df.apply(lambda x: x**2)\n",
        "print(df_applied)"
      ],
      "metadata": {
        "colab": {
          "base_uri": "https://localhost:8080/"
        },
        "id": "BDe0zlOT5uvy",
        "outputId": "14c9cab8-6951-4fbe-a59b-f313fa70a367"
      },
      "execution_count": 65,
      "outputs": [
        {
          "output_type": "stream",
          "name": "stdout",
          "text": [
            "   A   B\n",
            "0  1  16\n",
            "1  4  25\n",
            "2  9  36\n"
          ]
        }
      ]
    },
    {
      "cell_type": "code",
      "source": [
        "# Örnek DataFrame\n",
        "data = {\n",
        "    'Name': ['Alice', 'Bob', 'Charlie'],\n",
        "    'Age': [25, 30, 35]\n",
        "}\n",
        "df = pd.DataFrame(data)\n",
        "\n",
        "# map() ile Age sütununa dönüşüm uygulama\n",
        "df['Age'] = df['Age'].map(lambda x: x * 2)\n",
        "print(df)"
      ],
      "metadata": {
        "colab": {
          "base_uri": "https://localhost:8080/"
        },
        "id": "8SONXqQd5zM7",
        "outputId": "04e1a767-eef7-4d3e-d4a7-4ceb38527a16"
      },
      "execution_count": 66,
      "outputs": [
        {
          "output_type": "stream",
          "name": "stdout",
          "text": [
            "      Name  Age\n",
            "0    Alice   50\n",
            "1      Bob   60\n",
            "2  Charlie   70\n"
          ]
        }
      ]
    },
    {
      "cell_type": "code",
      "source": [
        "# Örnek DataFrame\n",
        "data = {\n",
        "    'A': [1, 2, 3],\n",
        "    'B': [4, 5, 6]\n",
        "}\n",
        "df = pd.DataFrame(data)\n",
        "\n",
        "# applymap() ile her hücreye fonksiyon uygulama\n",
        "df_appliedmap = df.applymap(lambda x: x**3)\n",
        "print(df_appliedmap)"
      ],
      "metadata": {
        "colab": {
          "base_uri": "https://localhost:8080/"
        },
        "id": "XEOpg6FW52Ry",
        "outputId": "433a33ec-0d1d-4d70-df7b-a77e6c19a6c5"
      },
      "execution_count": 67,
      "outputs": [
        {
          "output_type": "stream",
          "name": "stdout",
          "text": [
            "    A    B\n",
            "0   1   64\n",
            "1   8  125\n",
            "2  27  216\n"
          ]
        },
        {
          "output_type": "stream",
          "name": "stderr",
          "text": [
            "<ipython-input-67-bcc2b14095e9>:9: FutureWarning: DataFrame.applymap has been deprecated. Use DataFrame.map instead.\n",
            "  df_appliedmap = df.applymap(lambda x: x**3)\n"
          ]
        }
      ]
    },
    {
      "cell_type": "markdown",
      "source": [
        " ## Veri Sıralama:\n",
        "\n",
        "Veri sıralama, verilerin düzenlenmesi için çok önemlidir. Pandas, verileri hem değerlerine hem de indekslerine göre sıralamak için fonksiyonlar sağlar:\n",
        "\n",
        "- sort_values(): Verileri belirli bir sütuna göre sıralar.\n",
        "* sort_index(): Verileri indekslerine göre sıralar."
      ],
      "metadata": {
        "id": "0ggcZJIx56bY"
      }
    },
    {
      "cell_type": "code",
      "source": [
        "# Örnek DataFrame\n",
        "data = {\n",
        "    'Name': ['Alice', 'Bob', 'Charlie'],\n",
        "    'Age': [25, 30, 35]\n",
        "}\n",
        "df = pd.DataFrame(data)\n",
        "\n",
        "# sort_values() ile Age sütununa göre sıralama\n",
        "sorted_df = df.sort_values(by='Age')\n",
        "print(sorted_df)"
      ],
      "metadata": {
        "colab": {
          "base_uri": "https://localhost:8080/"
        },
        "id": "VYi4oSyJ6Arn",
        "outputId": "d333d826-b2fb-4c5c-bc6b-a62b959fac9e"
      },
      "execution_count": 68,
      "outputs": [
        {
          "output_type": "stream",
          "name": "stdout",
          "text": [
            "      Name  Age\n",
            "0    Alice   25\n",
            "1      Bob   30\n",
            "2  Charlie   35\n"
          ]
        }
      ]
    },
    {
      "cell_type": "markdown",
      "source": [
        "sort_index()"
      ],
      "metadata": {
        "id": "hyH2z5Wx6Fd4"
      }
    },
    {
      "cell_type": "code",
      "source": [
        "# Örnek DataFrame\n",
        "data = {\n",
        "    'Name': ['Alice', 'Bob', 'Charlie'],\n",
        "    'Age': [25, 30, 35]\n",
        "}\n",
        "df = pd.DataFrame(data)\n",
        "\n",
        "# sort_index() ile sıralama\n",
        "sorted_df = df.sort_index(ascending=False)\n",
        "print(sorted_df)\n"
      ],
      "metadata": {
        "colab": {
          "base_uri": "https://localhost:8080/"
        },
        "id": "k-PvRpFs6G-X",
        "outputId": "103cd3d6-2131-4e1c-bd95-556cffcf1a2c"
      },
      "execution_count": 69,
      "outputs": [
        {
          "output_type": "stream",
          "name": "stdout",
          "text": [
            "      Name  Age\n",
            "2  Charlie   35\n",
            "1      Bob   30\n",
            "0    Alice   25\n"
          ]
        }
      ]
    },
    {
      "cell_type": "markdown",
      "source": [
        "## Tarih/Saat Verisi ile Çalışma"
      ],
      "metadata": {
        "id": "NLkwX6gT6dVH"
      }
    },
    {
      "cell_type": "markdown",
      "source": [
        "## pd.to_datetime() ile Tarih Formatına Dönüştürme\n",
        "pd.to_datetime() fonksiyonu, çeşitli tarih/saat biçimlerini Pandas zaman serisi formatına dönüştürmek için kullanılır. Bu fonksiyon, tarih/saat verilerini datetime tipine dönüştürerek daha kolay analiz edilmesini sağlar."
      ],
      "metadata": {
        "id": "cb2WVLYF6jgA"
      }
    },
    {
      "cell_type": "code",
      "source": [
        "# Tarih verisi içeren bir liste\n",
        "date_strings = ['2020-01-01', '2021-06-15', '2022-11-25']\n",
        "\n",
        "# pd.to_datetime() ile tarihleri dönüştürme\n",
        "dates = pd.to_datetime(date_strings)\n",
        "print(dates)\n"
      ],
      "metadata": {
        "colab": {
          "base_uri": "https://localhost:8080/"
        },
        "id": "N7nyKlNo6nOI",
        "outputId": "d0f28c3c-a407-4449-ea55-bd8b198d3f15"
      },
      "execution_count": 70,
      "outputs": [
        {
          "output_type": "stream",
          "name": "stdout",
          "text": [
            "DatetimeIndex(['2020-01-01', '2021-06-15', '2022-11-25'], dtype='datetime64[ns]', freq=None)\n"
          ]
        }
      ]
    },
    {
      "cell_type": "markdown",
      "source": [
        "## Zaman Serisi Oluşturma\n",
        "Zaman serisi oluşturmak için bir tarih aralığı kullanabiliriz. Pandas date_range() fonksiyonu ile belli bir tarih aralığında zaman serisi verisi oluşturulabilir."
      ],
      "metadata": {
        "id": "HxB6hiFY6ttF"
      }
    },
    {
      "cell_type": "code",
      "source": [
        "# Belirli bir tarih aralığında zaman serisi oluşturma\n",
        "date_range = pd.date_range(start='2020-01-01', end='2020-12-31', freq='D')\n",
        "print(date_range)\n"
      ],
      "metadata": {
        "colab": {
          "base_uri": "https://localhost:8080/"
        },
        "id": "7uOQf00X6vcl",
        "outputId": "68babdb0-a043-4002-c54f-f4690622375e"
      },
      "execution_count": 71,
      "outputs": [
        {
          "output_type": "stream",
          "name": "stdout",
          "text": [
            "DatetimeIndex(['2020-01-01', '2020-01-02', '2020-01-03', '2020-01-04',\n",
            "               '2020-01-05', '2020-01-06', '2020-01-07', '2020-01-08',\n",
            "               '2020-01-09', '2020-01-10',\n",
            "               ...\n",
            "               '2020-12-22', '2020-12-23', '2020-12-24', '2020-12-25',\n",
            "               '2020-12-26', '2020-12-27', '2020-12-28', '2020-12-29',\n",
            "               '2020-12-30', '2020-12-31'],\n",
            "              dtype='datetime64[ns]', length=366, freq='D')\n"
          ]
        }
      ]
    },
    {
      "cell_type": "markdown",
      "source": [
        "## Zaman Aralıkları ve Sıklıklar: resample(), rolling()\n",
        "\n",
        "Zaman serisi verisi üzerinde belirli bir sıklıkta toplama ve kaydırma işlemleri yapmak için resample() ve rolling() fonksiyonları kullanılabilir.\n",
        "\n",
        " ## Zaman Aralıkları ve Yeniden Örnekleme: resample()\n",
        "resample() fonksiyonu, zaman serisi verisini yeniden örneklemek için kullanılır. Bu fonksiyon, zaman dilimlerine (örneğin, gün, hafta, ay) göre verileri yeniden toplamak için faydalıdır."
      ],
      "metadata": {
        "id": "B2-W2gco64vF"
      }
    },
    {
      "cell_type": "code",
      "source": [
        "import numpy as np\n",
        "\n",
        "# Zaman serisi verisi\n",
        "date_range = pd.date_range(start='2020-01-01', periods=10, freq='D')\n",
        "data = np.random.randn(10)\n",
        "\n",
        "# DataFrame oluşturma\n",
        "df = pd.DataFrame(data, index=date_range, columns=['Value'])\n",
        "\n",
        "# Zaman serisini haftalık olarak yeniden örnekleme\n",
        "weekly_data = df.resample('W').mean()\n",
        "print(weekly_data)"
      ],
      "metadata": {
        "colab": {
          "base_uri": "https://localhost:8080/"
        },
        "id": "H9ez7KfD69RJ",
        "outputId": "c2bdf52a-3816-4c8e-b2cf-560745de736f"
      },
      "execution_count": 72,
      "outputs": [
        {
          "output_type": "stream",
          "name": "stdout",
          "text": [
            "               Value\n",
            "2020-01-05  0.463284\n",
            "2020-01-12 -0.610729\n"
          ]
        }
      ]
    },
    {
      "cell_type": "code",
      "source": [
        "import numpy as np\n",
        "\n",
        "# Zaman serisi verisi\n",
        "date_range = pd.date_range(start='2020-01-01', periods=10, freq='D')\n",
        "data = np.random.randn(10)\n",
        "\n",
        "# DataFrame oluşturma\n",
        "df = pd.DataFrame(data, index=date_range, columns=['Value'])\n",
        "\n",
        "# 3 günlük kaydırmalı ortalama hesaplama\n",
        "rolling_mean = df.rolling(window=3).mean()\n",
        "print(rolling_mean)"
      ],
      "metadata": {
        "colab": {
          "base_uri": "https://localhost:8080/"
        },
        "id": "XhCFIAmb7C_X",
        "outputId": "840e3b22-f789-4768-bb06-6489e8b0f0e2"
      },
      "execution_count": 73,
      "outputs": [
        {
          "output_type": "stream",
          "name": "stdout",
          "text": [
            "               Value\n",
            "2020-01-01       NaN\n",
            "2020-01-02       NaN\n",
            "2020-01-03 -0.226598\n",
            "2020-01-04 -0.114390\n",
            "2020-01-05 -0.336359\n",
            "2020-01-06 -0.421227\n",
            "2020-01-07 -0.311811\n",
            "2020-01-08 -0.737046\n",
            "2020-01-09 -0.660730\n",
            "2020-01-10 -0.511825\n"
          ]
        }
      ]
    },
    {
      "cell_type": "markdown",
      "source": [
        "## Veri Görselleştirme"
      ],
      "metadata": {
        "id": "Sogvvuzj7cuk"
      }
    },
    {
      "cell_type": "code",
      "source": [
        "import matplotlib.pyplot as plt\n",
        "\n",
        "# Örnek veri\n",
        "data = {'Ay': ['Ocak', 'Şubat', 'Mart', 'Nisan'],\n",
        "        'Satış': [2500, 2700, 3000, 2800]}\n",
        "\n",
        "df = pd.DataFrame(data)\n",
        "\n",
        "# Satış verisini çiz\n",
        "df.plot(x='Ay', y='Satış', kind='line', marker='o', title='Aylık Satışlar')\n",
        "plt.ylabel('Satış (TL)')\n",
        "plt.show()\n"
      ],
      "metadata": {
        "colab": {
          "base_uri": "https://localhost:8080/",
          "height": 472
        },
        "id": "azlD34bZ7iYG",
        "outputId": "932a2f30-4987-4862-bdb3-a521645d1766"
      },
      "execution_count": 74,
      "outputs": [
        {
          "output_type": "display_data",
          "data": {
            "text/plain": [
              "<Figure size 640x480 with 1 Axes>"
            ],
            "image/png": "[encoded data removed]"
          },
          "metadata": {}
        }
      ]
    },
    {
      "cell_type": "markdown",
      "source": [
        ".plot() ile desteklenen bazı grafik türleri:\n",
        "\n",
        "- 'line': Çizgi grafiği (varsayılan)\n",
        "- 'bar': Çubuk grafiği\n",
        "- 'barh': Yatay çubuk grafiği\n",
        "- 'hist': Histogram\n",
        "- 'box': Kutu grafiği\n",
        "- 'area': Alan grafiği\n",
        "- 'pie': Pasta grafiği"
      ],
      "metadata": {
        "id": "wEXioCUt7odw"
      }
    },
    {
      "cell_type": "markdown",
      "source": [
        "##  Matplotlib ile Pandas Verisi Görselleştirme"
      ],
      "metadata": {
        "id": "cwAMGpFL7y-R"
      }
    },
    {
      "cell_type": "code",
      "source": [
        "\n",
        "import matplotlib.pyplot as plt\n",
        "\n",
        "# Örnek zaman serisi verisi\n",
        "date_range = pd.date_range(start='2024-01-01', periods=10, freq='D')\n",
        "df = pd.DataFrame({'Tarih': date_range,\n",
        "                   'Sıcaklık': [22, 23, 21, 24, 25, 26, 27, 26, 25, 24]})\n",
        "\n",
        "# Grafik oluştur\n",
        "plt.figure(figsize=(10, 5))\n",
        "plt.plot(df['Tarih'], df['Sıcaklık'], marker='o', linestyle='-', color='orange')\n",
        "plt.title('10 Günlük Sıcaklık Değişimi')\n",
        "plt.xlabel('Tarih')\n",
        "plt.ylabel('Sıcaklık (°C)')\n",
        "plt.grid(True)\n",
        "plt.tight_layout()\n",
        "plt.show()\n"
      ],
      "metadata": {
        "colab": {
          "base_uri": "https://localhost:8080/",
          "height": 339
        },
        "id": "m5FwnzpF707F",
        "outputId": "b44e3db9-c01a-4828-876a-4308e6b36833"
      },
      "execution_count": 75,
      "outputs": [
        {
          "output_type": "display_data",
          "data": {
            "text/plain": [
              "<Figure size 1000x500 with 1 Axes>"
            ],
            "image/png": "[encoded data removed]"
          },
          "metadata": {}
        }
      ]
    },
    {
      "cell_type": "markdown",
      "source": [
        "## Veri İhracatı ve İçe Aktarım"
      ],
      "metadata": {
        "id": "rcFlJ7-R8DGw"
      }
    },
    {
      "cell_type": "markdown",
      "source": [
        "##CSV Dosyaları ile Çalışma"
      ],
      "metadata": {
        "id": "SajMdO028ImU"
      }
    },
    {
      "cell_type": "code",
      "source": [
        "import pandas as pd\n",
        "\n",
        "df = pd.read_csv('veri.csv')\n",
        "print(df.head())\n"
      ],
      "metadata": {
        "id": "_reShORB8GYf"
      },
      "execution_count": null,
      "outputs": []
    },
    {
      "cell_type": "markdown",
      "source": [
        "CSV yazma"
      ],
      "metadata": {
        "id": "5EMFFB2L8OeU"
      }
    },
    {
      "cell_type": "code",
      "source": [
        "df.to_csv('yeni_veri.csv', index=False)\n"
      ],
      "metadata": {
        "id": "kZvQCvE88Qoe"
      },
      "execution_count": null,
      "outputs": []
    },
    {
      "cell_type": "markdown",
      "source": [
        "## Excel Dosyları ile çalışma"
      ],
      "metadata": {
        "id": "fsI-oYbn8SPr"
      }
    },
    {
      "cell_type": "code",
      "source": [
        "df = pd.read_excel('veri.xlsx', sheet_name='Sayfa1')\n"
      ],
      "metadata": {
        "id": "fEkGUa0X8Uch"
      },
      "execution_count": null,
      "outputs": []
    },
    {
      "cell_type": "markdown",
      "source": [
        "Excel Yazma"
      ],
      "metadata": {
        "id": "P0vPgymx8V4e"
      }
    },
    {
      "cell_type": "code",
      "source": [
        "df.to_excel('yeni_veri.xlsx', index=False)\n"
      ],
      "metadata": {
        "id": "zOX7pahm8ZXJ"
      },
      "execution_count": null,
      "outputs": []
    },
    {
      "cell_type": "markdown",
      "source": [
        "Excel dosyaları ile çalışmak için openpyxl veya xlsxwriter kütüphaneleri gerekebilir. Gerekirse:"
      ],
      "metadata": {
        "id": "utLmOpe38cpF"
      }
    },
    {
      "cell_type": "code",
      "source": [
        "pip install openpyxl\n"
      ],
      "metadata": {
        "colab": {
          "base_uri": "https://localhost:8080/"
        },
        "collapsed": true,
        "id": "vJF8eL7g8dvx",
        "outputId": "0d9aab65-6a32-4df3-ab1d-f74627232f76"
      },
      "execution_count": 76,
      "outputs": [
        {
          "output_type": "stream",
          "name": "stdout",
          "text": [
            "\u001b[31mERROR: Operation cancelled by user\u001b[0m\u001b[31m\n",
            "\u001b[0mTraceback (most recent call last):\n",
            "  File \"/usr/local/lib/python3.11/dist-packages/pip/_internal/cli/base_command.py\", line 179, in exc_logging_wrapper\n",
            "    status = run_func(*args)\n",
            "             ^^^^^^^^^^^^^^^\n",
            "  File \"/usr/local/lib/python3.11/dist-packages/pip/_internal/cli/req_command.py\", line 67, in wrapper\n",
            "    return func(self, options, args)\n",
            "           ^^^^^^^^^^^^^^^^^^^^^^^^^\n",
            "  File \"/usr/local/lib/python3.11/dist-packages/pip/_internal/commands/install.py\", line 362, in run\n",
            "    resolver = self.make_resolver(\n",
            "               ^^^^^^^^^^^^^^^^^^^\n",
            "  File \"/usr/local/lib/python3.11/dist-packages/pip/_internal/cli/req_command.py\", line 177, in make_resolver\n",
            "    return pip._internal.resolution.resolvelib.resolver.Resolver(\n",
            "           ^^^^^^^^^^^^^^^^^^^^^^^^^^^^^^^^^^^^^^^^^^^^^^^^^^^^^^\n",
            "  File \"/usr/local/lib/python3.11/dist-packages/pip/_internal/resolution/resolvelib/resolver.py\", line 58, in __init__\n",
            "    self.factory = Factory(\n",
            "                   ^^^^^^^^\n",
            "  File \"/usr/local/lib/python3.11/dist-packages/pip/_internal/resolution/resolvelib/factory.py\", line 127, in __init__\n",
            "    self._installed_dists = {\n",
            "                            ^\n",
            "  File \"/usr/local/lib/python3.11/dist-packages/pip/_internal/resolution/resolvelib/factory.py\", line 127, in <dictcomp>\n",
            "    self._installed_dists = {\n",
            "                            ^\n",
            "  File \"/usr/local/lib/python3.11/dist-packages/pip/_internal/metadata/base.py\", line 664, in <genexpr>\n",
            "    return (d for d in it if d.canonical_name not in skip)\n",
            "           ^^^^^^^^^^^^^^^^^^^^^^^^^^^^^^^^^^^^^^^^^^^^^^^\n",
            "  File \"/usr/local/lib/python3.11/dist-packages/pip/_internal/metadata/base.py\", line 612, in iter_all_distributions\n",
            "    for dist in self._iter_distributions():\n",
            "  File \"/usr/local/lib/python3.11/dist-packages/pip/_internal/metadata/importlib/_envs.py\", line 176, in _iter_distributions\n",
            "    yield from finder.find(location)\n",
            "  File \"/usr/local/lib/python3.11/dist-packages/pip/_internal/metadata/importlib/_envs.py\", line 79, in find\n",
            "    for dist, info_location in self._find_impl(location):\n",
            "  File \"/usr/local/lib/python3.11/dist-packages/pip/_internal/metadata/importlib/_envs.py\", line 64, in _find_impl\n",
            "    raw_name = get_dist_name(dist)\n",
            "               ^^^^^^^^^^^^^^^^^^^\n",
            "  File \"/usr/local/lib/python3.11/dist-packages/pip/_internal/metadata/importlib/_compat.py\", line 52, in get_dist_name\n",
            "    name = cast(Any, dist).name\n",
            "           ^^^^^^^^^^^^^^^^^^^^\n",
            "  File \"/usr/lib/python3.11/importlib/metadata/__init__.py\", line 622, in name\n",
            "    return self.metadata['Name']\n",
            "           ^^^^^^^^^^^^^\n",
            "  File \"/usr/lib/python3.11/importlib/metadata/__init__.py\", line 617, in metadata\n",
            "    return _adapters.Message(email.message_from_string(text))\n",
            "                             ^^^^^^^^^^^^^^^^^^^^^^^^^^^^^^^\n",
            "  File \"/usr/lib/python3.11/email/__init__.py\", line 37, in message_from_string\n",
            "    return Parser(*args, **kws).parsestr(s)\n",
            "           ^^^^^^^^^^^^^^^^^^^^^^^^^^^^^^^^\n",
            "  File \"/usr/lib/python3.11/email/parser.py\", line 67, in parsestr\n",
            "    return self.parse(StringIO(text), headersonly=headersonly)\n",
            "           ^^^^^^^^^^^^^^^^^^^^^^^^^^^^^^^^^^^^^^^^^^^^^^^^^^^\n",
            "  File \"/usr/lib/python3.11/email/parser.py\", line 56, in parse\n",
            "    feedparser.feed(data)\n",
            "  File \"/usr/lib/python3.11/email/feedparser.py\", line 174, in feed\n",
            "    self._call_parse()\n",
            "  File \"/usr/lib/python3.11/email/feedparser.py\", line 178, in _call_parse\n",
            "    self._parse()\n",
            "  File \"/usr/lib/python3.11/email/feedparser.py\", line 462, in _parsegen\n",
            "    for line in self._input:\n",
            "  File \"/usr/lib/python3.11/email/feedparser.py\", line 128, in __next__\n",
            "    line = self.readline()\n",
            "           ^^^^^^^^^^^^^^^\n",
            "  File \"/usr/lib/python3.11/email/feedparser.py\", line 88, in readline\n",
            "    for ateof in reversed(self._eofstack):\n",
            "                 ^^^^^^^^^^^^^^^^^^^^^^^^\n",
            "KeyboardInterrupt\n",
            "\n",
            "During handling of the above exception, another exception occurred:\n",
            "\n",
            "Traceback (most recent call last):\n",
            "  File \"/usr/local/bin/pip3\", line 10, in <module>\n",
            "    sys.exit(main())\n",
            "             ^^^^^^\n",
            "  File \"/usr/local/lib/python3.11/dist-packages/pip/_internal/cli/main.py\", line 80, in main\n",
            "    return command.main(cmd_args)\n",
            "           ^^^^^^^^^^^^^^^^^^^^^^\n",
            "  File \"/usr/local/lib/python3.11/dist-packages/pip/_internal/cli/base_command.py\", line 100, in main\n",
            "    return self._main(args)\n",
            "           ^^^^^^^^^^^^^^^^\n",
            "  File \"/usr/local/lib/python3.11/dist-packages/pip/_internal/cli/base_command.py\", line 232, in _main\n",
            "    return run(options, args)\n",
            "           ^^^^^^^^^^^^^^^^^^\n",
            "  File \"/usr/local/lib/python3.11/dist-packages/pip/_internal/cli/base_command.py\", line 216, in exc_logging_wrapper\n",
            "    logger.debug(\"Exception information:\", exc_info=True)\n",
            "  File \"/usr/lib/python3.11/logging/__init__.py\", line 1477, in debug\n",
            "    self._log(DEBUG, msg, args, **kwargs)\n",
            "  File \"/usr/lib/python3.11/logging/__init__.py\", line 1634, in _log\n",
            "    self.handle(record)\n",
            "  File \"/usr/lib/python3.11/logging/__init__.py\", line 1644, in handle\n",
            "    self.callHandlers(record)\n",
            "  File \"/usr/lib/python3.11/logging/__init__.py\", line 1706, in callHandlers\n",
            "    hdlr.handle(record)\n",
            "  File \"/usr/lib/python3.11/logging/__init__.py\", line 978, in handle\n",
            "    self.emit(record)\n",
            "  File \"/usr/lib/python3.11/logging/handlers.py\", line 75, in emit\n",
            "    logging.FileHandler.emit(self, record)\n",
            "  File \"/usr/lib/python3.11/logging/__init__.py\", line 1230, in emit\n",
            "    StreamHandler.emit(self, record)\n",
            "  File \"/usr/lib/python3.11/logging/__init__.py\", line 1110, in emit\n",
            "    msg = self.format(record)\n",
            "          ^^^^^^^^^^^^^^^^^^^\n",
            "  File \"/usr/lib/python3.11/logging/__init__.py\", line 953, in format\n",
            "    return fmt.format(record)\n",
            "           ^^^^^^^^^^^^^^^^^^\n",
            "  File \"/usr/local/lib/python3.11/dist-packages/pip/_internal/utils/logging.py\", line 112, in format\n",
            "    formatted = super().format(record)\n",
            "                ^^^^^^^^^^^^^^^^^^^^^^\n",
            "  File \"/usr/lib/python3.11/logging/__init__.py\", line 695, in format\n",
            "    record.exc_text = self.formatException(record.exc_info)\n",
            "                      ^^^^^^^^^^^^^^^^^^^^^^^^^^^^^^^^^^^^^\n",
            "  File \"/usr/lib/python3.11/logging/__init__.py\", line 645, in formatException\n",
            "    traceback.print_exception(ei[0], ei[1], tb, None, sio)\n",
            "  File \"/usr/lib/python3.11/traceback.py\", line 124, in print_exception\n",
            "    te = TracebackException(type(value), value, tb, limit=limit, compact=True)\n",
            "         ^^^^^^^^^^^^^^^^^^^^^^^^^^^^^^^^^^^^^^^^^^^^^^^^^^^^^^^^^^^^^^^^^^^^^\n",
            "  File \"/usr/lib/python3.11/traceback.py\", line 728, in __init__\n",
            "    self.stack = StackSummary._extract_from_extended_frame_gen(\n",
            "                 ^^^^^^^^^^^^^^^^^^^^^^^^^^^^^^^^^^^^^^^^^^^^^^\n",
            "  File \"/usr/lib/python3.11/traceback.py\", line 433, in _extract_from_extended_frame_gen\n",
            "    f.line\n",
            "  File \"/usr/lib/python3.11/traceback.py\", line 318, in line\n",
            "    self._line = linecache.getline(self.filename, self.lineno)\n",
            "                 ^^^^^^^^^^^^^^^^^^^^^^^^^^^^^^^^^^^^^^^^^^^^^\n",
            "  File \"/usr/lib/python3.11/linecache.py\", line 30, in getline\n",
            "    lines = getlines(filename, module_globals)\n",
            "            ^^^^^^^^^^^^^^^^^^^^^^^^^^^^^^^^^^\n",
            "  File \"/usr/lib/python3.11/linecache.py\", line 46, in getlines\n",
            "    return updatecache(filename, module_globals)\n",
            "           ^^^^^^^^^^^^^^^^^^^^^^^^^^^^^^^^^^^^^\n",
            "  File \"/usr/lib/python3.11/linecache.py\", line 136, in updatecache\n",
            "    with tokenize.open(fullname) as fp:\n",
            "         ^^^^^^^^^^^^^^^^^^^^^^^\n",
            "  File \"/usr/lib/python3.11/tokenize.py\", line 398, in open\n",
            "    encoding, lines = detect_encoding(buffer.readline)\n",
            "                      ^^^^^^^^^^^^^^^^^^^^^^^^^^^^^^^^\n",
            "  File \"/usr/lib/python3.11/tokenize.py\", line 367, in detect_encoding\n",
            "    first = read_or_stop()\n",
            "            ^^^^^^^^^^^^^^\n",
            "  File \"/usr/lib/python3.11/tokenize.py\", line 325, in read_or_stop\n",
            "    return readline()\n",
            "           ^^^^^^^^^^\n",
            "KeyboardInterrupt\n",
            "^C\n"
          ]
        }
      ]
    },
    {
      "cell_type": "markdown",
      "source": [
        "JSON Formatında Çalışma"
      ],
      "metadata": {
        "id": "WrO0qMRU8iZi"
      }
    },
    {
      "cell_type": "code",
      "source": [
        "df = pd.read_json('veri.json')\n"
      ],
      "metadata": {
        "id": "CqnevJIW8esE"
      },
      "execution_count": null,
      "outputs": []
    },
    {
      "cell_type": "markdown",
      "source": [
        "JSON yazma"
      ],
      "metadata": {
        "id": "DFoxdsK98nVi"
      }
    },
    {
      "cell_type": "code",
      "source": [
        "df.to_json('yeni_veri.json', orient='records', lines=True)\n"
      ],
      "metadata": {
        "id": "lGj5dbkD8oMo"
      },
      "execution_count": null,
      "outputs": []
    },
    {
      "cell_type": "markdown",
      "source": [
        "## SQL Veritabanı ile Çalışma\n",
        "\n",
        "SQL bağlantısı için sqlalchemy veya sqlite3 gibi bir veritabanı bağlantısı gereklidir."
      ],
      "metadata": {
        "id": "F6ir9GiA8rug"
      }
    },
    {
      "cell_type": "code",
      "source": [
        "import sqlite3\n",
        "conn = sqlite3.connect('veritabani.db')\n",
        "\n",
        "df = pd.read_sql(\"SELECT * FROM tablo_adi\", conn)\n"
      ],
      "metadata": {
        "id": "2MtyylAP8ypK"
      },
      "execution_count": null,
      "outputs": []
    },
    {
      "cell_type": "markdown",
      "source": [
        "SQL'e Veri Yazma"
      ],
      "metadata": {
        "id": "A2Yr_NJc80rg"
      }
    },
    {
      "cell_type": "code",
      "source": [
        "df.to_sql('yeni_tablo', conn, if_exists='replace', index=False)\n"
      ],
      "metadata": {
        "id": "V1NhXXLH83lb"
      },
      "execution_count": null,
      "outputs": []
    }
  ]
}